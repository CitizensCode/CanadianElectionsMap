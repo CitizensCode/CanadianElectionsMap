{
 "cells": [
  {
   "cell_type": "code",
   "execution_count": 160,
   "metadata": {
    "collapsed": true
   },
   "outputs": [],
   "source": [
    "import os\n",
    "import pandas as pd\n",
    "import numpy as np"
   ]
  },
  {
   "cell_type": "code",
   "execution_count": 173,
   "metadata": {
    "collapsed": false
   },
   "outputs": [],
   "source": [
    "def percent_by_polling_district(riding, year):\n",
    "    print \"Year: \" + str(int(year)) + \", Riding: \" + str(int(riding))\n",
    "    fileName = \"pollresults_resultatsbureau\" + str(int(riding)) + \".csv\"\n",
    "    filePath = os.path.join(folderName, fileName)\n",
    "    # Load the data\n",
    "    pollData = pd.read_csv(filePath)\n",
    "    \n",
    "    # Get column names, and remove French portions\n",
    "    colNames = list(pollData.columns.values)\n",
    "    colNames = [x.split('/')[0] for x in colNames]\n",
    "    pollData.columns = colNames\n",
    "    \n",
    "    # Drop unnecessary columns\n",
    "    listColDrop = ['Electoral District Name_English',\n",
    "                   'Electoral District Name_French',\n",
    "                   'Void Poll Indicator',\n",
    "                   'No Poll Held Indicator', \n",
    "                   'Merge With',\n",
    "                   'Rejected Ballots for Polling Station',\n",
    "                   'Political Affiliation Name_French',\n",
    "                   \"Candidate's First Name\",\n",
    "                   \"Candidate's Family Name\",\n",
    "                   \"Candidate's Middle Name\", \n",
    "                   'Incumbent Indicator',\n",
    "                   'Elected Candidate Indicator']\n",
    "    pollData = pollData.drop(listColDrop, axis=1)\n",
    "    \n",
    "    # Strip the polling ID column of whitespace.\n",
    "    polCol = 'Polling Station Number'\n",
    "    s = lambda x: str(x).strip(\" \")\n",
    "    pollData[polCol] = pollData[polCol].map(s)\n",
    "    \n",
    "    # Keep the total for the polls because we later remove smaller parties\n",
    "    pollVoteTotals = pollData.groupby('Polling Station Number')['Candidate Poll Votes Count'].sum()\n",
    "    pollVoteTotals = pd.DataFrame(pollVoteTotals)\n",
    "    pollVoteTotals.reset_index(level=0, inplace=True)\n",
    "    \n",
    "    # Remove parties that aren't one of the main ones\n",
    "    parties = \"Liberal|Conservative|NDP|N.D.P.|Green|Bloc|Wild\"\n",
    "    pollData = pollData[pollData['Political Affiliation Name_English'].str.contains(parties)]\n",
    "    \n",
    "    # Create a pivot table of the data by polling district/candidate name\n",
    "    pollData = pollData.pivot(\n",
    "        index='Polling Station Number',\n",
    "        columns='Political Affiliation Name_English',\n",
    "        values='Candidate Poll Votes Count')\n",
    "    # Turn the index back into a column\n",
    "    pollData.reset_index(level=0, inplace=True)\n",
    "    \n",
    "    # Strip the letters off polling stations since the geospatial data\n",
    "    #  does not include these letters.\n",
    "    stripCharacters = \"ABCDEFG\"\n",
    "    s = lambda x: str(x).strip(stripCharacters)\n",
    "    statCol = 'Polling Station Number'\n",
    "\n",
    "    pollData[statCol] = pollData[statCol].map(s)\n",
    "    pollVoteTotals[statCol] = pollVoteTotals[statCol].map(s)\n",
    "    \n",
    "    # Merge polling stations since some were split in two parts\n",
    "    pollData = pollData.groupby(statCol).sum()\n",
    "    pollVoteTotals = pollVoteTotals.groupby(statCol).sum()\n",
    "    pollsWithTotals = pd.concat([pollData, pollVoteTotals], axis=1)\n",
    "    pollsWithTotals.rename(columns={'Candidate Poll Votes Count': 'Vote Totals'}, inplace=True)\n",
    "\n",
    "    # Calculate the percent for each\n",
    "    # Grab the data we want converted to a percent\n",
    "    numColsPollData = len(pollsWithTotals.columns)\n",
    "    pollDataPercent = pollsWithTotals.iloc[:, range(0, numColsPollData-1)].copy()\n",
    "\n",
    "    # Divide it by the total votes for each polling district\n",
    "    pollDataPercent = pollDataPercent.div(pollsWithTotals['Vote Totals'], axis=0)\n",
    "    \n",
    "    # Calculate the percent that every other party got\n",
    "    pollDataPercent['Other'] = 1 - pollDataPercent.sum(axis=1)\n",
    "    # For rows with no votes, the other column becomes 100%\n",
    "    pollDataPercent.loc[pollDataPercent['Other'] == 1, 'Other'] = None\n",
    "    \n",
    "    # Round everything off\n",
    "    pollDataPercent = np.round(pollDataPercent*100, decimals=2)\n",
    "\n",
    "    # Rename columns\n",
    "    colNames = list(pollDataPercent.columns.values)\n",
    "    colNames = [x + \" (%)\" for x in colNames]\n",
    "    pollDataPercent.columns = colNames\n",
    "\n",
    "    # Merge it with the original data set\n",
    "    pollData = pd.concat([pollData, pollDataPercent], axis=1)\n",
    "    \n",
    "    # Add back column for electoral district\n",
    "    pollData['District'] = riding\n",
    "    \n",
    "    pollData.reset_index(level=0, inplace=True)\n",
    "    return pollData"
   ]
  },
  {
   "cell_type": "code",
   "execution_count": 174,
   "metadata": {
    "collapsed": true
   },
   "outputs": [],
   "source": [
    "# Create an array for all the years we're interested in\n",
    "years = [2006, 2008, 2011]"
   ]
  },
  {
   "cell_type": "code",
   "execution_count": 175,
   "metadata": {
    "collapsed": false
   },
   "outputs": [
    {
     "name": "stdout",
     "output_type": "stream",
     "text": [
      "Year: 2006, Riding: 13001\n",
      "Year: 2006, Riding: 13002\n",
      "Year: 2006, Riding: 13003\n",
      "Year: 2006, Riding: 13004\n",
      "Year: 2006, Riding: 13005\n",
      "Year: 2006, Riding: 13006\n",
      "Year: 2006, Riding: 13007\n",
      "Year: 2006, Riding: 13008\n",
      "Year: 2006, Riding: 13009\n",
      "Year: 2006, Riding: 13010\n",
      "Year: 2008, Riding: 13001\n",
      "Year: 2008, Riding: 13002\n",
      "Year: 2008, Riding: 13003\n",
      "Year: 2008, Riding: 13004\n",
      "Year: 2008, Riding: 13005\n",
      "Year: 2008, Riding: 13006\n",
      "Year: 2008, Riding: 13007\n",
      "Year: 2008, Riding: 13008\n",
      "Year: 2008, Riding: 13009\n",
      "Year: 2008, Riding: 13010\n",
      "Year: 2011, Riding: 13001\n",
      "Year: 2011, Riding: 13002\n",
      "Year: 2011, Riding: 13003\n",
      "Year: 2011, Riding: 13004\n",
      "Year: 2011, Riding: 13005\n",
      "Year: 2011, Riding: 13006\n",
      "Year: 2011, Riding: 13007\n",
      "Year: 2011, Riding: 13008\n",
      "Year: 2011, Riding: 13009\n",
      "Year: 2011, Riding: 13010\n"
     ]
    }
   ],
   "source": [
    "for year in years:\n",
    "    # Get list of riding numbers\n",
    "    folderName = \"pollresults_resultatsbureau_canada\" + str(year)\n",
    "    \n",
    "    # The 2006 data is missing a necessary column to automate this, so\n",
    "    # we need to treat it differently\n",
    "    if year != 2006:\n",
    "        # This file contains the provinces and their electoral districts\n",
    "        # It was originally table_tableau11.csv. I stripped the French parts\n",
    "        # of the names off and saved it with the UTF-8 encoding since it was causing trouble\n",
    "        ridingFile = os.path.join(folderName, \"RidingListClean.csv\")\n",
    "        ridingList = pd.read_csv(ridingFile)\n",
    "        # We only need the first three columns\n",
    "        ridingList = ridingList.iloc[:, [0, 2]]\n",
    "        ridingList = ridingList[ridingList[\"Province2\"] == \"New Brunswick\"]\n",
    "        ridings = ridingList.ix[:, 1]\n",
    "    else:\n",
    "        ridings = [13001, 13002, 13003, 13004, 13005, 13006, 13007, 13008, 13009, 13010]\n",
    "    \n",
    "    # Is this the first time looping for this year?\n",
    "    first = True\n",
    "    for riding in ridings:\n",
    "        pollData = percent_by_polling_district(riding, year)\n",
    "        if first == True:\n",
    "            combined = pollData\n",
    "        else:\n",
    "            combined = pd.concat([combined, pollData], axis=0, ignore_index=True)\n",
    "        first = False\n",
    "\n",
    "    # Reorder columns before writing\n",
    "    cols = list(combined)\n",
    "    cols.insert(0, cols.pop(cols.index('Polling Station Number')))\n",
    "    cols.insert(0, cols.pop(cols.index('District')))\n",
    "    combined = combined.ix[:, cols]\n",
    "    \n",
    "    fileName = str(int(year)) + \"Combined.csv\"\n",
    "    filePath = os.path.join(\"Output\", fileName)\n",
    "    combined.to_csv(filePath, index=False, encoding='utf-8')"
   ]
  },
  {
   "cell_type": "code",
   "execution_count": null,
   "metadata": {
    "collapsed": true
   },
   "outputs": [],
   "source": []
  },
  {
   "cell_type": "code",
   "execution_count": null,
   "metadata": {
    "collapsed": true
   },
   "outputs": [],
   "source": []
  }
 ],
 "metadata": {
  "kernelspec": {
   "display_name": "Python 2",
   "language": "python",
   "name": "python2"
  },
  "language_info": {
   "codemirror_mode": {
    "name": "ipython",
    "version": 2
   },
   "file_extension": ".py",
   "mimetype": "text/x-python",
   "name": "python",
   "nbconvert_exporter": "python",
   "pygments_lexer": "ipython2",
   "version": "2.7.11"
  }
 },
 "nbformat": 4,
 "nbformat_minor": 0
}
